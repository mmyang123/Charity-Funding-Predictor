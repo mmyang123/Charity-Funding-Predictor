{
 "cells": [
  {
   "cell_type": "markdown",
   "id": "30207c7d",
   "metadata": {},
   "source": [
    "# Charity Funding Predictor Summary"
   ]
  },
  {
   "cell_type": "markdown",
   "id": "1d90bcf0",
   "metadata": {},
   "source": [
    "## Overview of Analysis:\n",
    "\n",
    "\n",
    "In this session, we learned that there are large data that are too complex for humans to compute. In machine learnings, computers learning from large datasets using algorithyms to perform a task without being explicitly programmed.\n",
    "\n",
    "Deep learning uses complex structures of algorithyms modeled after the human brain. This allows processing unstructure data/nonbinary classifications such as documents, images and texts and in return learned from it. The goal is to minimize the loss and increase accuracy for the models with a predictive accuracy of approximately 85% maybe sufficient for a first-pass model. \n",
    "\n",
    "In deep learning, additional hidden layers are added to increase the capability of the model to help the complicated nonlinear problems that we as human beings cannot solved. \n",
    "\n",
    "The purpose of this exercise is to show what was done for the algorithym to achieve the results. This is an attempt to create a binary classifier that helps to predict whether or not the Charity Funding will be successful.\n",
    "\n",
    "If you view the graphs, it is clear how the modifications change the results for the models. The loss and accuracy seem to be relational barring with a few outliers. With more data or possible tweaks with current data, the models could achieve a better result and better score we are aiming for. In the example from \"AlphabetSoupCharity_Optimization3\", I increased the number of hidden layers, and added larger number of epochs in order to achieve a higher accuracy score, based on my three models that were optimized and how they appear to react to the tweaks I've showned.\n",
    "\n",
    "\n"
   ]
  },
  {
   "cell_type": "code",
   "execution_count": null,
   "id": "328a783e",
   "metadata": {},
   "outputs": [],
   "source": []
  }
 ],
 "metadata": {
  "kernelspec": {
   "display_name": "Python 3 (ipykernel)",
   "language": "python",
   "name": "python3"
  },
  "language_info": {
   "codemirror_mode": {
    "name": "ipython",
    "version": 3
   },
   "file_extension": ".py",
   "mimetype": "text/x-python",
   "name": "python",
   "nbconvert_exporter": "python",
   "pygments_lexer": "ipython3",
   "version": "3.8.13"
  }
 },
 "nbformat": 4,
 "nbformat_minor": 5
}
